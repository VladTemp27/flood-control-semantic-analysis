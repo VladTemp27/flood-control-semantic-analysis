{
 "cells": [
  {
   "cell_type": "code",
   "execution_count": 21,
   "id": "a1eaac45",
   "metadata": {},
   "outputs": [],
   "source": [
    "import pandas as pd\n",
    "dataframe = pd.read_csv('reddit_comments.csv')"
   ]
  },
  {
   "cell_type": "code",
   "execution_count": 22,
   "id": "cc670116",
   "metadata": {},
   "outputs": [
    {
     "data": {
      "text/html": [
       "<div>\n",
       "<style scoped>\n",
       "    .dataframe tbody tr th:only-of-type {\n",
       "        vertical-align: middle;\n",
       "    }\n",
       "\n",
       "    .dataframe tbody tr th {\n",
       "        vertical-align: top;\n",
       "    }\n",
       "\n",
       "    .dataframe thead th {\n",
       "        text-align: right;\n",
       "    }\n",
       "</style>\n",
       "<table border=\"1\" class=\"dataframe\">\n",
       "  <thead>\n",
       "    <tr style=\"text-align: right;\">\n",
       "      <th></th>\n",
       "      <th>url</th>\n",
       "      <th>user</th>\n",
       "      <th>comment</th>\n",
       "      <th>id</th>\n",
       "      <th>parent_id</th>\n",
       "    </tr>\n",
       "  </thead>\n",
       "  <tbody>\n",
       "    <tr>\n",
       "      <th>count</th>\n",
       "      <td>271</td>\n",
       "      <td>262</td>\n",
       "      <td>271</td>\n",
       "      <td>271</td>\n",
       "      <td>271</td>\n",
       "    </tr>\n",
       "    <tr>\n",
       "      <th>unique</th>\n",
       "      <td>3</td>\n",
       "      <td>257</td>\n",
       "      <td>261</td>\n",
       "      <td>271</td>\n",
       "      <td>3</td>\n",
       "    </tr>\n",
       "    <tr>\n",
       "      <th>top</th>\n",
       "      <td>https://i.redd.it/yl3imtc43vmf1.png</td>\n",
       "      <td>grenfunkel</td>\n",
       "      <td>[removed]</td>\n",
       "      <td>nea74ha</td>\n",
       "      <td>t3_1n735a2</td>\n",
       "    </tr>\n",
       "    <tr>\n",
       "      <th>freq</th>\n",
       "      <td>173</td>\n",
       "      <td>2</td>\n",
       "      <td>9</td>\n",
       "      <td>1</td>\n",
       "      <td>173</td>\n",
       "    </tr>\n",
       "  </tbody>\n",
       "</table>\n",
       "</div>"
      ],
      "text/plain": [
       "                                        url        user    comment       id  \\\n",
       "count                                   271         262        271      271   \n",
       "unique                                    3         257        261      271   \n",
       "top     https://i.redd.it/yl3imtc43vmf1.png  grenfunkel  [removed]  nea74ha   \n",
       "freq                                    173           2          9        1   \n",
       "\n",
       "         parent_id  \n",
       "count          271  \n",
       "unique           3  \n",
       "top     t3_1n735a2  \n",
       "freq           173  "
      ]
     },
     "execution_count": 22,
     "metadata": {},
     "output_type": "execute_result"
    }
   ],
   "source": [
    "dataframe.describe()"
   ]
  },
  {
   "cell_type": "code",
   "execution_count": 25,
   "id": "9fc4e070",
   "metadata": {},
   "outputs": [
    {
     "data": {
      "text/html": [
       "<div>\n",
       "<style scoped>\n",
       "    .dataframe tbody tr th:only-of-type {\n",
       "        vertical-align: middle;\n",
       "    }\n",
       "\n",
       "    .dataframe tbody tr th {\n",
       "        vertical-align: top;\n",
       "    }\n",
       "\n",
       "    .dataframe thead th {\n",
       "        text-align: right;\n",
       "    }\n",
       "</style>\n",
       "<table border=\"1\" class=\"dataframe\">\n",
       "  <thead>\n",
       "    <tr style=\"text-align: right;\">\n",
       "      <th></th>\n",
       "      <th>url</th>\n",
       "      <th>user</th>\n",
       "      <th>comment</th>\n",
       "      <th>id</th>\n",
       "      <th>parent_id</th>\n",
       "    </tr>\n",
       "  </thead>\n",
       "  <tbody>\n",
       "    <tr>\n",
       "      <th>count</th>\n",
       "      <td>247</td>\n",
       "      <td>247</td>\n",
       "      <td>247</td>\n",
       "      <td>247</td>\n",
       "      <td>247</td>\n",
       "    </tr>\n",
       "    <tr>\n",
       "      <th>unique</th>\n",
       "      <td>3</td>\n",
       "      <td>242</td>\n",
       "      <td>247</td>\n",
       "      <td>247</td>\n",
       "      <td>3</td>\n",
       "    </tr>\n",
       "    <tr>\n",
       "      <th>top</th>\n",
       "      <td>https://i.redd.it/yl3imtc43vmf1.png</td>\n",
       "      <td>grenfunkel</td>\n",
       "      <td>Not a win. But stopping the bleeding is better...</td>\n",
       "      <td>nea74ha</td>\n",
       "      <td>t3_1n735a2</td>\n",
       "    </tr>\n",
       "    <tr>\n",
       "      <th>freq</th>\n",
       "      <td>165</td>\n",
       "      <td>2</td>\n",
       "      <td>1</td>\n",
       "      <td>1</td>\n",
       "      <td>165</td>\n",
       "    </tr>\n",
       "  </tbody>\n",
       "</table>\n",
       "</div>"
      ],
      "text/plain": [
       "                                        url        user  \\\n",
       "count                                   247         247   \n",
       "unique                                    3         242   \n",
       "top     https://i.redd.it/yl3imtc43vmf1.png  grenfunkel   \n",
       "freq                                    165           2   \n",
       "\n",
       "                                                  comment       id   parent_id  \n",
       "count                                                 247      247         247  \n",
       "unique                                                247      247           3  \n",
       "top     Not a win. But stopping the bleeding is better...  nea74ha  t3_1n735a2  \n",
       "freq                                                    1        1         165  "
      ]
     },
     "execution_count": 25,
     "metadata": {},
     "output_type": "execute_result"
    }
   ],
   "source": [
    "dataframe = dataframe[dataframe['user'] != 'AutoModerator']\n",
    "dataframe = dataframe[~dataframe['comment'].str.match(r'^\\[\\s*removed( by reddit)?\\s*\\]$', case=False, na=False)]\n",
    "dataframe = dataframe[~dataframe['comment'].str.contains(r'http[s]?://(?:[a-zA-Z]|[0-9]|[$-_@.&+]|[!*\\\\(\\\\),]|(?:%[0-9a-fA-F][0-9a-fA-F]))+', regex=True, na=False)]\n",
    "dataframe = dataframe[~dataframe['comment'].str.contains(r'!\\[[^\\]]*\\]\\([^)]+\\)', regex=True, na=False)]\n",
    "dataframe.dropna(inplace=True)\n",
    "dataframe.describe()"
   ]
  },
  {
   "cell_type": "code",
   "execution_count": 26,
   "id": "33807a2f",
   "metadata": {},
   "outputs": [],
   "source": [
    "dataframe.to_csv('cleaned_reddit_comments.csv', index=False)"
   ]
  }
 ],
 "metadata": {
  "kernelspec": {
   "display_name": "flood-control",
   "language": "python",
   "name": "python3"
  },
  "language_info": {
   "codemirror_mode": {
    "name": "ipython",
    "version": 3
   },
   "file_extension": ".py",
   "mimetype": "text/x-python",
   "name": "python",
   "nbconvert_exporter": "python",
   "pygments_lexer": "ipython3",
   "version": "3.12.5"
  }
 },
 "nbformat": 4,
 "nbformat_minor": 5
}

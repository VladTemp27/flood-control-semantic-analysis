{
 "cells": [
  {
   "cell_type": "code",
   "execution_count": 39,
   "id": "ecc44f63",
   "metadata": {},
   "outputs": [],
   "source": [
    "from bertopic import BERTopic\n",
    "from sentence_transformers import SentenceTransformer\n",
    "import pandas as pd\n",
    "from sklearn.feature_extraction.text import CountVectorizer\n",
    "from nltk.corpus import stopwords\n",
    "import nltk\n",
    "from hdbscan import HDBSCAN\n",
    "from umap import UMAP"
   ]
  },
  {
   "cell_type": "code",
   "execution_count": 40,
   "id": "d037ecda",
   "metadata": {},
   "outputs": [],
   "source": [
    "eng_stopwords = stopwords.words('english')\n"
   ]
  },
  {
   "cell_type": "code",
   "execution_count": 41,
   "id": "5de395b7",
   "metadata": {},
   "outputs": [],
   "source": [
    "tagalog_stopwords = [\n",
    "    \"ako\", \"ikaw\", \"siya\", \"sila\", \"kami\", \"tayo\", \"kayo\", \"nila\", \"namin\", \"natin\",\n",
    "    \"ko\", \"mo\", \"niya\", \"kanila\", \"atin\", \"amin\", \"iyo\", \"inyo\", \"ito\", \"iyan\", \"iyon\",\n",
    "    \"dito\", \"diyan\", \"doon\", \"ganito\", \"ganyan\", \"ganun\", \"ganon\", \"mga\",\n",
    "    \"na\", \"pa\", \"din\", \"rin\", \"nga\", \"eh\", \"ba\", \"daw\", \"pala\", \"naman\", \"kasi\",\n",
    "    \"sana\", \"talaga\", \"lang\", \"yata\", \"pati\", \"muna\", \"lamang\", \"lalo\", \"kung\",\n",
    "    \"parang\", \"dapat\", \"naka\", \"kay\", \"para\", \"habang\", \"basta\", \"pero\", \"at\", \"o\",\n",
    "    \"hindi\", \"oo\", \"opo\", \"syempre\", \"wala\", \"meron\", \"may\",\n",
    "    \"ngayon\", \"kahapon\", \"kanina\", \"mamaya\", \"bukas\",\n",
    "    \"sobrang\", \"grabe\", \"super\", \"medyo\",\n",
    "    \"uy\", \"hala\", \"naku\", \"sus\", \"tsk\", \"ay\", \"oooh\", \"ah\",\n",
    "    \"haha\", \"hahaha\", \"hehe\", \"lol\", \"amp\", \"omg\", \"lmao\", \"huhu\",\n",
    "    \"sa\", \"ng\", \"ang\", \"yan\"  # Add these common Tagalog words that are appearing\n",
    "]"
   ]
  },
  {
   "cell_type": "code",
   "execution_count": 42,
   "id": "fcf039ab",
   "metadata": {},
   "outputs": [],
   "source": [
    "all_stopwords = list(set([word.lower().strip() for word in eng_stopwords + tagalog_stopwords]))\n",
    "vectorizer_model = CountVectorizer(stop_words=all_stopwords, min_df=2, max_df=0.8)"
   ]
  },
  {
   "cell_type": "code",
   "execution_count": 43,
   "id": "3966c418",
   "metadata": {},
   "outputs": [
    {
     "name": "stdout",
     "output_type": "stream",
     "text": [
      "   Topic  ...                                Representative_Docs\n",
      "0     -1  ...  [guys trust me. dont park your money in Philip...\n",
      "1      0  ...  [Gimmick nalng ng senate at congress yan. Sila...\n",
      "2      1  ...  [Nasa The Hague yung isa., Yung nasa Hague, Na...\n",
      "\n",
      "[3 rows x 5 columns]\n",
      "[('kaya', np.float64(0.11211702947182937)), ('di', np.float64(0.10154881620880157)), ('government', np.float64(0.09049137618604863)), ('us', np.float64(0.08999822306882585)), ('people', np.float64(0.08378658835601732)), ('corrupt', np.float64(0.08378658835601732)), ('nag', np.float64(0.08378658835601732)), ('puro', np.float64(0.07723607896258103)), ('time', np.float64(0.07723607896258103)), ('salita', np.float64(0.07029967075967115))]\n"
     ]
    },
    {
     "name": "stderr",
     "output_type": "stream",
     "text": [
      "/Users/lestat/.pyenv/versions/flood-control/lib/python3.12/site-packages/sklearn/utils/deprecation.py:132: FutureWarning: 'force_all_finite' was renamed to 'ensure_all_finite' in 1.6 and will be removed in 1.8.\n",
      "  warnings.warn(\n",
      "/Users/lestat/.pyenv/versions/flood-control/lib/python3.12/site-packages/sklearn/utils/deprecation.py:132: FutureWarning: 'force_all_finite' was renamed to 'ensure_all_finite' in 1.6 and will be removed in 1.8.\n",
      "  warnings.warn(\n"
     ]
    }
   ],
   "source": [
    "document = pd.read_csv('../../reddit-scraper/cleaned_reddit_comments.csv')\n",
    "comments = document['comment'].tolist()\n",
    "\n",
    "\n",
    "# Reduce min_cluster_size to get more topics\n",
    "hdbscan_model = HDBSCAN(min_cluster_size=10, metric='euclidean', cluster_selection_method='eom', prediction_data=True)\n",
    "\n",
    "# Optionally, reduce UMAP dimensions for more granular clustering\n",
    "umap_model = UMAP(n_neighbors=15, n_components=5, min_dist=0.0, metric='cosine')\n",
    "\n",
    "sentence_model = SentenceTransformer(\"paraphrase-multilingual-MiniLM-L12-v2\")\n",
    "topic_model = BERTopic(\n",
    "    embedding_model=sentence_model, \n",
    "    language=\"english\", \n",
    "    calculate_probabilities=True, \n",
    "    vectorizer_model=vectorizer_model,\n",
    "    umap_model=umap_model,\n",
    "    hdbscan_model=hdbscan_model,\n",
    "\n",
    "    )\n",
    "topics, probs = topic_model.fit_transform(comments) \n",
    "\n",
    "print(topic_model.get_topic_info())\n",
    "print(topic_model.get_topic(0))\n"
   ]
  },
  {
   "cell_type": "code",
   "execution_count": 44,
   "id": "cbe19dfd",
   "metadata": {},
   "outputs": [
    {
     "name": "stdout",
     "output_type": "stream",
     "text": [
      "   Topic                           Name\n",
      "0     -1  -1_take_philippines_want_even\n",
      "1      0        0_kaya_di_government_us\n",
      "2      1       1_hague_nasa_duterte_isa\n",
      "Topic 0: [('kaya', np.float64(0.11211702947182937)), ('di', np.float64(0.10154881620880157)), ('government', np.float64(0.09049137618604863)), ('us', np.float64(0.08999822306882585)), ('people', np.float64(0.08378658835601732)), ('corrupt', np.float64(0.08378658835601732)), ('nag', np.float64(0.08378658835601732)), ('puro', np.float64(0.07723607896258103)), ('time', np.float64(0.07723607896258103)), ('salita', np.float64(0.07029967075967115))]\n",
      "Topic 1: [('hague', np.float64(0.4518012090523637)), ('nasa', np.float64(0.43329065098233)), ('duterte', np.float64(0.20011165913032355)), ('isa', np.float64(0.14472228897857536)), ('sure', np.float64(0.10867504669365012)), ('lead', np.float64(0.07644895671619938)), ('sina', np.float64(0.07644895671619938)), ('mean', np.float64(0.07644895671619938)), ('allies', np.float64(0.07644895671619938)), ('true', np.float64(0.07644895671619938))]\n"
     ]
    }
   ],
   "source": [
    "# Print a table of all topics and their labels (top words)\n",
    "topic_info = topic_model.get_topic_info()\n",
    "print(topic_info[['Topic', 'Name']])  # 'Name' column contains the label\n",
    "\n",
    "# Or, for each topic, print the top words:\n",
    "for topic_num in topic_info['Topic']:\n",
    "    if topic_num == -1:  # -1 is usually for outliers\n",
    "        continue\n",
    "    print(f\"Topic {topic_num}: {topic_model.get_topic(topic_num)}\")"
   ]
  },
  {
   "cell_type": "code",
   "execution_count": 45,
   "id": "302c154f",
   "metadata": {},
   "outputs": [
    {
     "name": "stderr",
     "output_type": "stream",
     "text": [
      "2025-09-18 16:33:08,511 - BERTopic - WARNING: When you use `pickle` to save/load a BERTopic model,please make sure that the environments in which you saveand load the model are **exactly** the same. The version of BERTopic,its dependencies, and python need to remain the same.\n"
     ]
    }
   ],
   "source": [
    "topic_model.save(\"bertopic_model\")"
   ]
  }
 ],
 "metadata": {
  "kernelspec": {
   "display_name": "flood-control",
   "language": "python",
   "name": "python3"
  },
  "language_info": {
   "codemirror_mode": {
    "name": "ipython",
    "version": 3
   },
   "file_extension": ".py",
   "mimetype": "text/x-python",
   "name": "python",
   "nbconvert_exporter": "python",
   "pygments_lexer": "ipython3",
   "version": "3.12.5"
  }
 },
 "nbformat": 4,
 "nbformat_minor": 5
}
